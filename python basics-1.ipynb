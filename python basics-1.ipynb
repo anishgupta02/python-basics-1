{
 "cells": [
  {
   "cell_type": "code",
   "execution_count": 1,
   "id": "39f77bf1",
   "metadata": {},
   "outputs": [
    {
     "name": "stdout",
     "output_type": "stream",
     "text": [
      "enter a num2\n",
      "3\n"
     ]
    }
   ],
   "source": [
    "n=int(input('enter a num'))\n",
    "s=0\n",
    "for i in range (1,n+1):\n",
    "    s=s+i\n",
    "print(s)"
   ]
  },
  {
   "cell_type": "code",
   "execution_count": null,
   "id": "68f2efb8",
   "metadata": {},
   "outputs": [],
   "source": [
    "ch=input(\"enter any letter\")\n",
    "if(ch>='A' and ch<='Z'):\n",
    "    print(ch.lower())\n",
    "else:\n",
    "    print(ch.upper())"
   ]
  },
  {
   "cell_type": "code",
   "execution_count": null,
   "id": "d2823788",
   "metadata": {},
   "outputs": [],
   "source": [
    "ch=input(\"enter sex m or f\")\n",
    "sal=int(input(\"enter the salary\"))\n",
    "if(ch=='m' and sal<10000):\n",
    "    bon=0.7*sal\n",
    "elif(ch=='m' and sal>=10000):\n",
    "    bon=0.05*sal\n",
    "elif(ch=='f' and sal<10000):\n",
    "    bon=0.1*sal\n",
    "elif(ch=='f' and sal>=10000):\n",
    "    bon=0.12*sal\n",
    "t=sal+bon\n",
    "print(\"salary after increment is :\",+t)\n",
    "    "
   ]
  },
  {
   "cell_type": "code",
   "execution_count": null,
   "id": "de3d93db",
   "metadata": {},
   "outputs": [],
   "source": [
    "n=int(input(\"enter a number\"))\n",
    "fact=1\n",
    "if(n==0 or n==1):\n",
    "    fact=1\n",
    "else:\n",
    "    for i in range (1,n+1):\n",
    "        fact=fact*i\n",
    "print(fact)\n",
    "    \n"
   ]
  },
  {
   "cell_type": "code",
   "execution_count": null,
   "id": "2560d68f",
   "metadata": {},
   "outputs": [],
   "source": [
    "n=int(input(\"enter a number \"))\n",
    "v=1\n",
    "for i in range (2,n):\n",
    "    if(n%i==0):\n",
    "        v=0\n",
    "        break\n",
    "    else:\n",
    "        v=1\n",
    "if(v==0):\n",
    "    print(\"composite\")\n",
    "else:\n",
    "    print(\"prime\")"
   ]
  },
  {
   "cell_type": "code",
   "execution_count": null,
   "id": "07f25bce",
   "metadata": {},
   "outputs": [],
   "source": [
    "n=int(input(\"enter a num\"))\n",
    "i=0\n",
    "while(i<=n):\n",
    "    print(i)\n",
    "    i=i+1"
   ]
  },
  {
   "cell_type": "code",
   "execution_count": null,
   "id": "d4b6c6a9",
   "metadata": {},
   "outputs": [],
   "source": [
    "i=0\n",
    "s=0\n",
    "while(i<=10):\n",
    "    s=s+i\n",
    "    i=i+1\n",
    "avg=s/10\n",
    "print(\"sum=\",+s)\n",
    "print(\"avg=\",+avg)"
   ]
  },
  {
   "cell_type": "code",
   "execution_count": null,
   "id": "dce60a88",
   "metadata": {},
   "outputs": [],
   "source": [
    "i=1\n",
    "while(i<=10):\n",
    "    print(\"*\",end=\"\")\n",
    "    i=i+1"
   ]
  },
  {
   "cell_type": "code",
   "execution_count": null,
   "id": "9d0dcc40",
   "metadata": {},
   "outputs": [],
   "source": []
  },
  {
   "cell_type": "markdown",
   "id": "24016663",
   "metadata": {},
   "source": [
    "m"
   ]
  }
 ],
 "metadata": {
  "kernelspec": {
   "display_name": "Python 3 (ipykernel)",
   "language": "python",
   "name": "python3"
  },
  "language_info": {
   "codemirror_mode": {
    "name": "ipython",
    "version": 3
   },
   "file_extension": ".py",
   "mimetype": "text/x-python",
   "name": "python",
   "nbconvert_exporter": "python",
   "pygments_lexer": "ipython3",
   "version": "3.9.12"
  }
 },
 "nbformat": 4,
 "nbformat_minor": 5
}
